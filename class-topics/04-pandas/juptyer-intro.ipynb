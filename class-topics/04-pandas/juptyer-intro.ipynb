{
 "cells": [
  {
   "cell_type": "markdown",
   "id": "d3c2610e-81f8-4611-97ee-0b257809b741",
   "metadata": {},
   "source": [
    "# Title\n",
    "## Smaller Title\n",
    "\n",
    "* 1\n",
    "* 3\n",
    "\n",
    "saldfjasdkl;fjakl;sdjf _asdjklfhalks_ **afasdf**\n",
    "\n",
    "\n",
    "$\\frac{2}{3}$"
   ]
  },
  {
   "cell_type": "raw",
   "id": "1cd83fa3-c9cf-4274-a461-9041950fbdaf",
   "metadata": {},
   "source": [
    "Here is some text."
   ]
  },
  {
   "cell_type": "code",
   "execution_count": 1,
   "id": "b04f6982-9c28-4dd8-b692-6356506e37de",
   "metadata": {},
   "outputs": [
    {
     "name": "stdout",
     "output_type": "stream",
     "text": [
      "Hello\n"
     ]
    }
   ],
   "source": [
    "print(\"Hello\")"
   ]
  },
  {
   "cell_type": "code",
   "execution_count": 2,
   "id": "a1be9d85-b47b-4fd8-870b-1df336f19a11",
   "metadata": {},
   "outputs": [],
   "source": [
    "a = 1"
   ]
  },
  {
   "cell_type": "code",
   "execution_count": 3,
   "id": "afa27731-7519-45b2-abb2-234d0e73905d",
   "metadata": {},
   "outputs": [],
   "source": [
    "b = 3"
   ]
  },
  {
   "cell_type": "code",
   "execution_count": 4,
   "id": "fa2ed7b5-16c6-4556-8e7d-e10462414360",
   "metadata": {},
   "outputs": [
    {
     "data": {
      "text/plain": [
       "4"
      ]
     },
     "execution_count": 4,
     "metadata": {},
     "output_type": "execute_result"
    }
   ],
   "source": [
    "a + b"
   ]
  },
  {
   "cell_type": "code",
   "execution_count": null,
   "id": "2c72565d-9d18-45bf-94a8-537fcab7f43c",
   "metadata": {},
   "outputs": [],
   "source": []
  },
  {
   "cell_type": "code",
   "execution_count": null,
   "id": "3e4dd791-b553-49ee-b558-1e9b9871b684",
   "metadata": {},
   "outputs": [],
   "source": []
  },
  {
   "cell_type": "code",
   "execution_count": null,
   "id": "ee7b2747-59ce-4a0c-aded-bb9c45daa0bf",
   "metadata": {},
   "outputs": [],
   "source": []
  }
 ],
 "metadata": {
  "kernelspec": {
   "display_name": "Python 3 (ipykernel)",
   "language": "python",
   "name": "python3"
  },
  "language_info": {
   "codemirror_mode": {
    "name": "ipython",
    "version": 3
   },
   "file_extension": ".py",
   "mimetype": "text/x-python",
   "name": "python",
   "nbconvert_exporter": "python",
   "pygments_lexer": "ipython3",
   "version": "3.10.3"
  }
 },
 "nbformat": 4,
 "nbformat_minor": 5
}
